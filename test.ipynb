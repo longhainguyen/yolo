{
 "cells": [
  {
   "cell_type": "code",
   "execution_count": 1,
   "metadata": {},
   "outputs": [],
   "source": [
    "import cv2"
   ]
  },
  {
   "cell_type": "code",
   "execution_count": 2,
   "metadata": {},
   "outputs": [],
   "source": [
    "img2 = cv2.imread(\"./data/images/train/{}\".format('BloodImage_00000.jpg'))"
   ]
  },
  {
   "cell_type": "code",
   "execution_count": 3,
   "metadata": {},
   "outputs": [],
   "source": [
    "import torch"
   ]
  },
  {
   "cell_type": "code",
   "execution_count": 4,
   "metadata": {},
   "outputs": [],
   "source": [
    "import os"
   ]
  },
  {
   "cell_type": "code",
   "execution_count": 5,
   "metadata": {},
   "outputs": [],
   "source": [
    "file_list = os.listdir('./data/images/train')"
   ]
  },
  {
   "cell_type": "code",
   "execution_count": 6,
   "metadata": {},
   "outputs": [],
   "source": [
    "import config"
   ]
  },
  {
   "cell_type": "code",
   "execution_count": 7,
   "metadata": {},
   "outputs": [
    {
     "data": {
      "text/plain": [
       "364"
      ]
     },
     "execution_count": 7,
     "metadata": {},
     "output_type": "execute_result"
    }
   ],
   "source": [
    "len(file_list)"
   ]
  },
  {
   "cell_type": "code",
   "execution_count": 8,
   "metadata": {},
   "outputs": [],
   "source": [
    "x_train = torch.zeros((len(file_list), config.img_size_H, config.img_size_W, 3))"
   ]
  },
  {
   "cell_type": "code",
   "execution_count": 9,
   "metadata": {},
   "outputs": [],
   "source": [
    "for idx ,file_name in enumerate(file_list):\n",
    "    x_train[idx] = torch.from_numpy(cv2.imread(\"./data/images/train/{}\".format(file_name)))\n"
   ]
  },
  {
   "cell_type": "code",
   "execution_count": 10,
   "metadata": {},
   "outputs": [],
   "source": [
    "x_train = x_train.permute(0, 3, 1, 2)/255"
   ]
  },
  {
   "cell_type": "code",
   "execution_count": 11,
   "metadata": {},
   "outputs": [
    {
     "data": {
      "text/plain": [
       "tensor(0.6078)"
      ]
     },
     "execution_count": 11,
     "metadata": {},
     "output_type": "execute_result"
    }
   ],
   "source": [
    "x_train[1][1][1][1]"
   ]
  },
  {
   "cell_type": "code",
   "execution_count": 12,
   "metadata": {},
   "outputs": [
    {
     "data": {
      "text/plain": [
       "torch.Size([364, 3, 480, 640])"
      ]
     },
     "execution_count": 12,
     "metadata": {},
     "output_type": "execute_result"
    }
   ],
   "source": [
    "x_train.shape"
   ]
  },
  {
   "cell_type": "code",
   "execution_count": 13,
   "metadata": {},
   "outputs": [],
   "source": [
    "y_train = torch.zeros((len(file_list), config.out_W, config.out_H, config.nclass + 5))"
   ]
  },
  {
   "cell_type": "code",
   "execution_count": 14,
   "metadata": {},
   "outputs": [
    {
     "data": {
      "text/plain": [
       "torch.Size([364, 10, 8, 8])"
      ]
     },
     "execution_count": 14,
     "metadata": {},
     "output_type": "execute_result"
    }
   ],
   "source": [
    "y_train.shape"
   ]
  },
  {
   "cell_type": "code",
   "execution_count": 15,
   "metadata": {},
   "outputs": [],
   "source": [
    "file_list_label = os.listdir('./data/labels/train')"
   ]
  },
  {
   "cell_type": "code",
   "execution_count": 16,
   "metadata": {},
   "outputs": [],
   "source": [
    "with open(\"./data/labels/train/{}\".format(\"BloodImage_00000.txt\"), 'r') as file:\n",
    "    # Đọc nội dung của tệp và gán nó cho một biến\n",
    "    file_content = file.read()"
   ]
  },
  {
   "cell_type": "code",
   "execution_count": 17,
   "metadata": {},
   "outputs": [],
   "source": [
    "y_train = torch.zeros((len(file_list), config.out_W, config.out_H, config.nclass + 5))\n",
    "for idx ,file_name in enumerate(file_list_label):\n",
    "    with open(\"./data/labels/train/{}\".format(file_name), 'r') as file:\n",
    "    # Đọc nội dung của tệp và gán nó cho một biến\n",
    "        file_content = file.read()\n",
    "        lines = file_content.splitlines()\n",
    "        for line in lines:\n",
    "            values = line.split()\n",
    "            class_label, x_center_norm, y_center_norm, width_norm, height_norm = map(float, values)\n",
    "            cl = torch.zeros((3))\n",
    "            cl[int(class_label)] = 1\n",
    "            # x_center, y_center, w, h = int(x_center_norm * config.img_size_W),  int(y_center_norm * config.img_size_H), int(width_norm * config.img_size_W), int(height_norm * config.img_size_H)\n",
    "            # index của object trên ma trận ô vuông 10x8\n",
    "            x_idx, y_idx = int(x_center_norm * config.out_W), int(y_center_norm * config.out_H)\n",
    "            y_tensor = torch.zeros(config.nclass + 5)\n",
    "            y_tensor[0] = 1\n",
    "            y_tensor[1] = x_center_norm\n",
    "            y_tensor[2] = y_center_norm\n",
    "            y_tensor[3] = width_norm\n",
    "            y_tensor[4] = height_norm\n",
    "            y_tensor[5:] = cl\n",
    "            y_train[idx][x_idx][y_idx] = y_tensor"
   ]
  },
  {
   "cell_type": "code",
   "execution_count": 18,
   "metadata": {},
   "outputs": [
    {
     "data": {
      "text/plain": [
       "torch.Size([364, 3, 480, 640])"
      ]
     },
     "execution_count": 18,
     "metadata": {},
     "output_type": "execute_result"
    }
   ],
   "source": [
    "x_train.shape"
   ]
  },
  {
   "cell_type": "code",
   "execution_count": 19,
   "metadata": {},
   "outputs": [],
   "source": [
    "x = torch.rand((2, 10, 8, 13))"
   ]
  },
  {
   "cell_type": "code",
   "execution_count": 20,
   "metadata": {},
   "outputs": [
    {
     "data": {
      "text/plain": [
       "tensor([0.3478, 0.7958, 0.0775, 0.1170, 0.8328, 0.0117, 0.8483, 0.3602, 0.7805,\n",
       "        0.9589, 0.2253, 0.0167, 0.0509])"
      ]
     },
     "execution_count": 20,
     "metadata": {},
     "output_type": "execute_result"
    }
   ],
   "source": [
    "x[0][6][1]"
   ]
  },
  {
   "cell_type": "code",
   "execution_count": 21,
   "metadata": {},
   "outputs": [
    {
     "data": {
      "text/plain": [
       "tensor([1.0000, 0.6781, 0.1271, 0.1453, 0.2083, 0.0000, 1.0000, 0.0000])"
      ]
     },
     "execution_count": 21,
     "metadata": {},
     "output_type": "execute_result"
    }
   ],
   "source": [
    "y_train[0][6][1]"
   ]
  },
  {
   "cell_type": "code",
   "execution_count": 1,
   "metadata": {},
   "outputs": [],
   "source": [
    "import dataset"
   ]
  },
  {
   "cell_type": "code",
   "execution_count": 2,
   "metadata": {},
   "outputs": [],
   "source": [
    "X, y = dataset.load_data_to_train()"
   ]
  },
  {
   "cell_type": "code",
   "execution_count": 3,
   "metadata": {},
   "outputs": [
    {
     "data": {
      "text/plain": [
       "torch.Size([364, 3, 480, 640])"
      ]
     },
     "execution_count": 3,
     "metadata": {},
     "output_type": "execute_result"
    }
   ],
   "source": [
    "X.shape"
   ]
  },
  {
   "cell_type": "code",
   "execution_count": 4,
   "metadata": {},
   "outputs": [
    {
     "data": {
      "text/plain": [
       "torch.Size([364, 10, 8, 8])"
      ]
     },
     "execution_count": 4,
     "metadata": {},
     "output_type": "execute_result"
    }
   ],
   "source": [
    "y.shape"
   ]
  },
  {
   "cell_type": "code",
   "execution_count": 13,
   "metadata": {},
   "outputs": [],
   "source": [
    "from torch.utils.data import TensorDataset, DataLoader\n",
    "import torch"
   ]
  },
  {
   "cell_type": "code",
   "execution_count": 8,
   "metadata": {},
   "outputs": [],
   "source": [
    "LEARNING_RATE = 2e-5\n",
    "DEVICE = \"cuda\" if torch.cuda.is_available else \"cpu\"\n",
    "BATCH_SIZE = 16 # 64 in original paper but I don't have that much vram, grad accum?\n",
    "WEIGHT_DECAY = 0\n",
    "EPOCHS = 1000\n",
    "NUM_WORKERS = 2\n",
    "PIN_MEMORY = True\n",
    "LOAD_MODEL = False\n",
    "LOAD_MODEL_FILE = \"overfit.pth.tar\"\n",
    "IMG_DIR = \"data/images\"\n",
    "LABEL_DIR = \"data/labels\""
   ]
  },
  {
   "cell_type": "code",
   "execution_count": 15,
   "metadata": {},
   "outputs": [],
   "source": [
    "x_train = torch.Tensor(X)\n",
    "y_train = torch.Tensor(y)\n",
    "\n",
    "# Tạo một TensorDataset từ x_train và y_train\n",
    "dataset = TensorDataset(x_train, y_train)"
   ]
  },
  {
   "cell_type": "code",
   "execution_count": 16,
   "metadata": {},
   "outputs": [],
   "source": [
    "train_loader = DataLoader(\n",
    "    dataset=dataset,\n",
    "    batch_size=BATCH_SIZE,\n",
    "    num_workers=NUM_WORKERS,\n",
    "    pin_memory=PIN_MEMORY,\n",
    "    shuffle=True,\n",
    "    drop_last=True\n",
    ")"
   ]
  },
  {
   "cell_type": "code",
   "execution_count": 17,
   "metadata": {},
   "outputs": [],
   "source": [
    "from tqdm import tqdm"
   ]
  },
  {
   "cell_type": "code",
   "execution_count": 18,
   "metadata": {},
   "outputs": [
    {
     "name": "stderr",
     "output_type": "stream",
     "text": [
      "  0%|          | 0/22 [00:00<?, ?it/s]"
     ]
    }
   ],
   "source": [
    "loop = tqdm(train_loader, leave=True)"
   ]
  },
  {
   "cell_type": "code",
   "execution_count": 19,
   "metadata": {},
   "outputs": [
    {
     "name": "stderr",
     "output_type": "stream",
     "text": [
      " 23%|██▎       | 5/22 [00:35<01:30,  5.30s/it]"
     ]
    },
    {
     "name": "stdout",
     "output_type": "stream",
     "text": [
      "torch.Size([16, 3, 480, 640]) torch.Size([16, 10, 8, 8])\n",
      "torch.Size([16, 3, 480, 640]) torch.Size([16, 10, 8, 8])\n",
      "torch.Size([16, 3, 480, 640]) torch.Size([16, 10, 8, 8])\n",
      "torch.Size([16, 3, 480, 640]) torch.Size([16, 10, 8, 8])\n",
      "torch.Size([16, 3, 480, 640]) torch.Size([16, 10, 8, 8])\n",
      "torch.Size([16, 3, 480, 640]) torch.Size([16, 10, 8, 8])\n",
      "torch.Size([16, 3, 480, 640]) torch.Size([16, 10, 8, 8])\n",
      "torch.Size([16, 3, 480, 640]) torch.Size([16, 10, 8, 8])\n"
     ]
    },
    {
     "name": "stderr",
     "output_type": "stream",
     "text": [
      " 59%|█████▉    | 13/22 [00:35<00:12,  1.36s/it]"
     ]
    },
    {
     "name": "stdout",
     "output_type": "stream",
     "text": [
      "torch.Size([16, 3, 480, 640]) torch.Size([16, 10, 8, 8])\n",
      "torch.Size([16, 3, 480, 640]) torch.Size([16, 10, 8, 8])\n",
      "torch.Size([16, 3, 480, 640]) torch.Size([16, 10, 8, 8])\n",
      "torch.Size([16, 3, 480, 640]) torch.Size([16, 10, 8, 8])\n",
      "torch.Size([16, 3, 480, 640]) torch.Size([16, 10, 8, 8])\n",
      "torch.Size([16, 3, 480, 640]) torch.Size([16, 10, 8, 8])\n",
      "torch.Size([16, 3, 480, 640]) torch.Size([16, 10, 8, 8])\n",
      "torch.Size([16, 3, 480, 640]) torch.Size([16, 10, 8, 8])\n"
     ]
    },
    {
     "name": "stderr",
     "output_type": "stream",
     "text": [
      " 95%|█████████▌| 21/22 [00:36<00:00,  1.78it/s]"
     ]
    },
    {
     "name": "stdout",
     "output_type": "stream",
     "text": [
      "torch.Size([16, 3, 480, 640]) torch.Size([16, 10, 8, 8])\n",
      "torch.Size([16, 3, 480, 640]) torch.Size([16, 10, 8, 8])\n",
      "torch.Size([16, 3, 480, 640]) torch.Size([16, 10, 8, 8])\n",
      "torch.Size([16, 3, 480, 640]) torch.Size([16, 10, 8, 8])\n",
      "torch.Size([16, 3, 480, 640]) torch.Size([16, 10, 8, 8])\n",
      "torch.Size([16, 3, 480, 640]) torch.Size([16, 10, 8, 8])\n"
     ]
    },
    {
     "name": "stderr",
     "output_type": "stream",
     "text": [
      "100%|██████████| 22/22 [00:36<00:00,  1.66s/it]\n"
     ]
    }
   ],
   "source": [
    "for batch_idx, (x, y) in enumerate(loop):\n",
    "    print(x.shape, y.shape)"
   ]
  }
 ],
 "metadata": {
  "kernelspec": {
   "display_name": ".venv",
   "language": "python",
   "name": "python3"
  },
  "language_info": {
   "codemirror_mode": {
    "name": "ipython",
    "version": 3
   },
   "file_extension": ".py",
   "mimetype": "text/x-python",
   "name": "python",
   "nbconvert_exporter": "python",
   "pygments_lexer": "ipython3",
   "version": "3.11.5"
  }
 },
 "nbformat": 4,
 "nbformat_minor": 2
}
